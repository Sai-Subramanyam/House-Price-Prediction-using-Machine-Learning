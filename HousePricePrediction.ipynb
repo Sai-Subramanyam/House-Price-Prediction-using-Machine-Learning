{
 "cells": [
  {
   "cell_type": "markdown",
   "id": "cd7cbfe0",
   "metadata": {},
   "source": [
    "# 🏠 House Price Prediction using Machine Learning"
   ]
  },
  {
   "cell_type": "markdown",
   "id": "afe7f36f",
   "metadata": {},
   "source": [
    "This notebook demonstrates predicting house prices based on features like **area, bedrooms, bathrooms, and location score** using **Linear Regression and Random Forest**."
   ]
  },
  {
   "cell_type": "code",
   "execution_count": null,
   "id": "62db7065",
   "metadata": {},
   "outputs": [],
   "source": [
    "\n",
    "import pandas as pd\n",
    "import numpy as np\n",
    "import matplotlib.pyplot as plt\n",
    "from sklearn.model_selection import train_test_split\n",
    "from sklearn.linear_model import LinearRegression\n",
    "from sklearn.ensemble import RandomForestRegressor\n",
    "from sklearn.metrics import mean_squared_error, r2_score\n"
   ]
  },
  {
   "cell_type": "markdown",
   "id": "bdf9f90e",
   "metadata": {},
   "source": [
    "## 📊 Step 1: Create Synthetic Dataset"
   ]
  },
  {
   "cell_type": "code",
   "execution_count": null,
   "id": "9070a097",
   "metadata": {},
   "outputs": [],
   "source": [
    "\n",
    "np.random.seed(42)\n",
    "n_samples = 500\n",
    "\n",
    "# Features\n",
    "area = np.random.randint(500, 3500, n_samples)\n",
    "bedrooms = np.random.randint(1, 6, n_samples)\n",
    "bathrooms = np.random.randint(1, 4, n_samples)\n",
    "location_score = np.random.randint(1, 11, n_samples)\n",
    "\n",
    "# Target variable (Price)\n",
    "price = (area * 300) + (bedrooms * 50000) + (bathrooms * 30000) + (location_score * 10000) + np.random.randint(-50000, 50000, n_samples)\n",
    "\n",
    "# DataFrame\n",
    "data = pd.DataFrame({\n",
    "    'Area': area,\n",
    "    'Bedrooms': bedrooms,\n",
    "    'Bathrooms': bathrooms,\n",
    "    'Location_Score': location_score,\n",
    "    'Price': price\n",
    "})\n",
    "\n",
    "data.head()\n"
   ]
  },
  {
   "cell_type": "markdown",
   "id": "49f32cf6",
   "metadata": {},
   "source": [
    "## 📊 Step 2: Data Visualization"
   ]
  },
  {
   "cell_type": "code",
   "execution_count": null,
   "id": "93dae360",
   "metadata": {},
   "outputs": [],
   "source": [
    "\n",
    "plt.scatter(data['Area'], data['Price'], alpha=0.5)\n",
    "plt.xlabel('Area (sq ft)')\n",
    "plt.ylabel('Price')\n",
    "plt.title('Area vs Price')\n",
    "plt.show()\n"
   ]
  },
  {
   "cell_type": "markdown",
   "id": "56da4d17",
   "metadata": {},
   "source": [
    "## 🔀 Step 3: Train-Test Split"
   ]
  },
  {
   "cell_type": "code",
   "execution_count": null,
   "id": "ca525659",
   "metadata": {},
   "outputs": [],
   "source": [
    "\n",
    "X = data[['Area', 'Bedrooms', 'Bathrooms', 'Location_Score']]\n",
    "y = data['Price']\n",
    "\n",
    "X_train, X_test, y_train, y_test = train_test_split(X, y, test_size=0.2, random_state=42)\n"
   ]
  },
  {
   "cell_type": "markdown",
   "id": "6330d812",
   "metadata": {},
   "source": [
    "## 🤖 Step 4: Train Linear Regression Model"
   ]
  },
  {
   "cell_type": "code",
   "execution_count": null,
   "id": "27785a21",
   "metadata": {},
   "outputs": [],
   "source": [
    "\n",
    "lin_reg = LinearRegression()\n",
    "lin_reg.fit(X_train, y_train)\n",
    "y_pred_lr = lin_reg.predict(X_test)\n",
    "\n",
    "lr_rmse = np.sqrt(mean_squared_error(y_test, y_pred_lr))\n",
    "lr_r2 = r2_score(y_test, y_pred_lr)\n",
    "\n",
    "print(\"Linear Regression RMSE:\", lr_rmse)\n",
    "print(\"Linear Regression R² Score:\", lr_r2)\n"
   ]
  },
  {
   "cell_type": "markdown",
   "id": "2c92bd5c",
   "metadata": {},
   "source": [
    "## 🌲 Step 5: Train Random Forest Model"
   ]
  },
  {
   "cell_type": "code",
   "execution_count": null,
   "id": "273b6179",
   "metadata": {},
   "outputs": [],
   "source": [
    "\n",
    "rf_reg = RandomForestRegressor(n_estimators=100, random_state=42)\n",
    "rf_reg.fit(X_train, y_train)\n",
    "y_pred_rf = rf_reg.predict(X_test)\n",
    "\n",
    "rf_rmse = np.sqrt(mean_squared_error(y_test, y_pred_rf))\n",
    "rf_r2 = r2_score(y_test, y_pred_rf)\n",
    "\n",
    "print(\"Random Forest RMSE:\", rf_rmse)\n",
    "print(\"Random Forest R² Score:\", rf_r2)\n"
   ]
  },
  {
   "cell_type": "markdown",
   "id": "d0a55dcd",
   "metadata": {},
   "source": [
    "## 📈 Step 6: Model Comparison"
   ]
  },
  {
   "cell_type": "code",
   "execution_count": null,
   "id": "e3d7b7db",
   "metadata": {},
   "outputs": [],
   "source": [
    "\n",
    "results = {\n",
    "    \"Linear Regression\": {\"RMSE\": lr_rmse, \"R2 Score\": lr_r2},\n",
    "    \"Random Forest\": {\"RMSE\": rf_rmse, \"R2 Score\": rf_r2}\n",
    "}\n",
    "\n",
    "results_df = pd.DataFrame(results).T\n",
    "print(results_df)\n",
    "results_df.plot(kind='bar', figsize=(8,6), legend=True)\n",
    "plt.title(\"Model Comparison (RMSE and R² Score)\")\n",
    "plt.show()\n"
   ]
  },
  {
   "cell_type": "markdown",
   "id": "a4b3163a",
   "metadata": {},
   "source": [
    "## 🚀 Step 7: Future Improvements"
   ]
  },
  {
   "cell_type": "markdown",
   "id": "cf9b2d27",
   "metadata": {},
   "source": [
    "\n",
    "- Use advanced models like XGBoost, LightGBM.  \n",
    "- Perform hyperparameter tuning using GridSearchCV.  \n",
    "- Deploy the model with Flask or Streamlit.  \n"
   ]
  }
 ],
 "metadata": {},
 "nbformat": 4,
 "nbformat_minor": 5
}
